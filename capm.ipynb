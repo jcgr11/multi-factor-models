{
 "cells": [
  {
   "cell_type": "code",
   "execution_count": 45,
   "metadata": {},
   "outputs": [],
   "source": [
    "import pandas as pd\n",
    "import yfinance as yf\n",
    "import statsmodels.api as sm\n",
    "from datetime import date as dt"
   ]
  },
  {
   "cell_type": "code",
   "execution_count": 46,
   "metadata": {},
   "outputs": [],
   "source": [
    "# set parameters for CAPM. Choose your security, benchmark, risk free rate (or proxy for risk free rate), start & end dates for the downloaded data\n",
    "RISKY_ASSET = 'AXP'\n",
    "MARKET_BENCHMARK = '^SP500TR' #S&P 500 total return\n",
    "MKT_RF ='^IRX' #90 T-bill\n",
    "START_DATE = '2013-03-31'\n",
    "END_DATE = dt.today()"
   ]
  },
  {
   "cell_type": "code",
   "execution_count": 47,
   "metadata": {},
   "outputs": [
    {
     "data": {
      "text/html": [
       "<div>\n",
       "<style scoped>\n",
       "    .dataframe tbody tr th:only-of-type {\n",
       "        vertical-align: middle;\n",
       "    }\n",
       "\n",
       "    .dataframe tbody tr th {\n",
       "        vertical-align: top;\n",
       "    }\n",
       "\n",
       "    .dataframe thead th {\n",
       "        text-align: right;\n",
       "    }\n",
       "</style>\n",
       "<table border=\"1\" class=\"dataframe\">\n",
       "  <thead>\n",
       "    <tr style=\"text-align: right;\">\n",
       "      <th></th>\n",
       "      <th>asset</th>\n",
       "      <th>mkt_rf</th>\n",
       "      <th>market</th>\n",
       "    </tr>\n",
       "    <tr>\n",
       "      <th>Date</th>\n",
       "      <th></th>\n",
       "      <th></th>\n",
       "      <th></th>\n",
       "    </tr>\n",
       "  </thead>\n",
       "  <tbody>\n",
       "    <tr>\n",
       "      <th>2022-12-31</th>\n",
       "      <td>-0.062440</td>\n",
       "      <td>0.001646</td>\n",
       "      <td>-0.057615</td>\n",
       "    </tr>\n",
       "    <tr>\n",
       "      <th>2023-01-31</th>\n",
       "      <td>0.188063</td>\n",
       "      <td>0.072770</td>\n",
       "      <td>0.062834</td>\n",
       "    </tr>\n",
       "    <tr>\n",
       "      <th>2023-02-28</th>\n",
       "      <td>-0.005374</td>\n",
       "      <td>0.030635</td>\n",
       "      <td>-0.024400</td>\n",
       "    </tr>\n",
       "    <tr>\n",
       "      <th>2023-03-31</th>\n",
       "      <td>-0.051957</td>\n",
       "      <td>-0.026539</td>\n",
       "      <td>0.036714</td>\n",
       "    </tr>\n",
       "    <tr>\n",
       "      <th>2023-04-30</th>\n",
       "      <td>-0.006822</td>\n",
       "      <td>0.069357</td>\n",
       "      <td>0.007528</td>\n",
       "    </tr>\n",
       "  </tbody>\n",
       "</table>\n",
       "</div>"
      ],
      "text/plain": [
       "               asset    mkt_rf    market\n",
       "Date                                    \n",
       "2022-12-31 -0.062440  0.001646 -0.057615\n",
       "2023-01-31  0.188063  0.072770  0.062834\n",
       "2023-02-28 -0.005374  0.030635 -0.024400\n",
       "2023-03-31 -0.051957 -0.026539  0.036714\n",
       "2023-04-30 -0.006822  0.069357  0.007528"
      ]
     },
     "execution_count": 47,
     "metadata": {},
     "output_type": "execute_result"
    }
   ],
   "source": [
    "# create data frame of timeseries for asset, benchmark, and risk free rate proxy\n",
    "df = yf.download([RISKY_ASSET, MARKET_BENCHMARK, MKT_RF],start=START_DATE,end=END_DATE,progress=False)\n",
    "# calculate returns\n",
    "df = df['Adj Close'].rename(columns={RISKY_ASSET: 'asset', MARKET_BENCHMARK: 'market', MKT_RF: 'mkt_rf'}) \\\n",
    "    .resample('M') \\\n",
    "    .last() \\\n",
    "    .pct_change() \\\n",
    "    .dropna()\n",
    "df.iloc[-5:]"
   ]
  },
  {
   "cell_type": "code",
   "execution_count": 48,
   "metadata": {},
   "outputs": [
    {
     "data": {
      "text/html": [
       "<div>\n",
       "<style scoped>\n",
       "    .dataframe tbody tr th:only-of-type {\n",
       "        vertical-align: middle;\n",
       "    }\n",
       "\n",
       "    .dataframe tbody tr th {\n",
       "        vertical-align: top;\n",
       "    }\n",
       "\n",
       "    .dataframe thead th {\n",
       "        text-align: right;\n",
       "    }\n",
       "</style>\n",
       "<table border=\"1\" class=\"dataframe\">\n",
       "  <thead>\n",
       "    <tr style=\"text-align: right;\">\n",
       "      <th></th>\n",
       "      <th>asset</th>\n",
       "      <th>market</th>\n",
       "    </tr>\n",
       "    <tr>\n",
       "      <th>Date</th>\n",
       "      <th></th>\n",
       "      <th></th>\n",
       "    </tr>\n",
       "  </thead>\n",
       "  <tbody>\n",
       "    <tr>\n",
       "      <th>2022-12-31</th>\n",
       "      <td>-0.064086</td>\n",
       "      <td>-0.059261</td>\n",
       "    </tr>\n",
       "    <tr>\n",
       "      <th>2023-01-31</th>\n",
       "      <td>0.115293</td>\n",
       "      <td>-0.009936</td>\n",
       "    </tr>\n",
       "    <tr>\n",
       "      <th>2023-02-28</th>\n",
       "      <td>-0.036008</td>\n",
       "      <td>-0.055034</td>\n",
       "    </tr>\n",
       "    <tr>\n",
       "      <th>2023-03-31</th>\n",
       "      <td>-0.025418</td>\n",
       "      <td>0.063254</td>\n",
       "    </tr>\n",
       "    <tr>\n",
       "      <th>2023-04-30</th>\n",
       "      <td>-0.076179</td>\n",
       "      <td>-0.061829</td>\n",
       "    </tr>\n",
       "  </tbody>\n",
       "</table>\n",
       "</div>"
      ],
      "text/plain": [
       "               asset    market\n",
       "Date                          \n",
       "2022-12-31 -0.064086 -0.059261\n",
       "2023-01-31  0.115293 -0.009936\n",
       "2023-02-28 -0.036008 -0.055034\n",
       "2023-03-31 -0.025418  0.063254\n",
       "2023-04-30 -0.076179 -0.061829"
      ]
     },
     "execution_count": 48,
     "metadata": {},
     "output_type": "execute_result"
    }
   ],
   "source": [
    "rf_series = df.loc[:,'mkt_rf'] # 90 T-bill return series \n",
    "df = df.subtract(rf_series, axis=0) # subtract RF return series from asset and benchmark series\n",
    "df= df.drop(['mkt_rf'], axis=1) # Drop RF series (now all 0 values)\n",
    "df.iloc[-5:]"
   ]
  },
  {
   "cell_type": "code",
   "execution_count": 49,
   "metadata": {},
   "outputs": [
    {
     "data": {
      "text/plain": [
       "1.0020084417869242"
      ]
     },
     "execution_count": 49,
     "metadata": {},
     "output_type": "execute_result"
    }
   ],
   "source": [
    "# covariance method for beta calculation (Cov(asset, benchmark) divided by volatility of market returns)\n",
    "covariance = df.cov().iloc[0,1]\n",
    "benchmark_variance = df.market.var()\n",
    "beta = covariance / benchmark_variance\n",
    "beta"
   ]
  },
  {
   "cell_type": "code",
   "execution_count": 50,
   "metadata": {},
   "outputs": [
    {
     "name": "stdout",
     "output_type": "stream",
     "text": [
      "                            OLS Regression Results                            \n",
      "==============================================================================\n",
      "Dep. Variable:                  asset   R-squared:                       0.999\n",
      "Model:                            OLS   Adj. R-squared:                  0.999\n",
      "Method:                 Least Squares   F-statistic:                 1.114e+05\n",
      "Date:                Sat, 15 Apr 2023   Prob (F-statistic):          2.02e-177\n",
      "Time:                        01:27:31   Log-Likelihood:                 183.77\n",
      "No. Observations:                 120   AIC:                            -363.5\n",
      "Df Residuals:                     118   BIC:                            -358.0\n",
      "Df Model:                           1                                         \n",
      "Covariance Type:            nonrobust                                         \n",
      "==============================================================================\n",
      "                 coef    std err          t      P>|t|      [0.025      0.975]\n",
      "------------------------------------------------------------------------------\n",
      "const          0.0015      0.005      0.292      0.771      -0.008       0.011\n",
      "market         1.0020      0.003    333.819      0.000       0.996       1.008\n",
      "==============================================================================\n",
      "Omnibus:                       11.901   Durbin-Watson:                   1.984\n",
      "Prob(Omnibus):                  0.003   Jarque-Bera (JB):               25.772\n",
      "Skew:                           0.307   Prob(JB):                     2.53e-06\n",
      "Kurtosis:                       5.186   Cond. No.                         1.77\n",
      "==============================================================================\n",
      "\n",
      "Notes:\n",
      "[1] Standard Errors assume that the covariance matrix of the errors is correctly specified.\n"
     ]
    }
   ],
   "source": [
    "# CAPM regression setup\n",
    "y = df.pop('asset') #extract dependent variable (asset) times series\n",
    "x = sm.add_constant(df) # independent variable (benchmark) time series\n",
    "capm_model = sm.OLS(y, x).fit() # Ordinary Least Squares regression from statsmodels\n",
    "print(capm_model.summary()) # Regression output. market coefficient should equal beta variable above from covariance method\n"
   ]
  }
 ],
 "metadata": {
  "kernelspec": {
   "display_name": "base",
   "language": "python",
   "name": "python3"
  },
  "language_info": {
   "codemirror_mode": {
    "name": "ipython",
    "version": 3
   },
   "file_extension": ".py",
   "mimetype": "text/x-python",
   "name": "python",
   "nbconvert_exporter": "python",
   "pygments_lexer": "ipython3",
   "version": "3.10.9"
  },
  "orig_nbformat": 4
 },
 "nbformat": 4,
 "nbformat_minor": 2
}
